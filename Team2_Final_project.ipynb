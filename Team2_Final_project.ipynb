{
  "nbformat": 4,
  "nbformat_minor": 0,
  "metadata": {
    "colab": {
      "name": "Team2_Aidea_Final_project.ipynb",
      "version": "0.3.2",
      "provenance": []
    },
    "kernelspec": {
      "name": "python3",
      "display_name": "Python 3"
    },
    "accelerator": "GPU"
  },
  "cells": [
    {
      "cell_type": "code",
      "metadata": {
        "id": "aUk707B31f2Z",
        "colab_type": "code",
        "colab": {}
      },
      "source": [
        "!pip install PyDrive #下載PyDrive ------google colab需要-------"
      ],
      "execution_count": 0,
      "outputs": []
    },
    {
      "cell_type": "code",
      "metadata": {
        "id": "jhoEXb2c1h5n",
        "colab_type": "code",
        "colab": {}
      },
      "source": [
        "import os\n",
        "from pydrive.auth import GoogleAuth\n",
        "from pydrive.drive import GoogleDrive\n",
        "from google.colab import auth\n",
        "from oauth2client.client import GoogleCredentials\n",
        "\n",
        "auth.authenticate_user()\n",
        "gauth = GoogleAuth()\n",
        "gauth.credentials = GoogleCredentials.get_application_default()\n",
        "drive = GoogleDrive(gauth)\n",
        "\n",
        "#import連結Drive必要元件 ------google colab需要-------"
      ],
      "execution_count": 0,
      "outputs": []
    },
    {
      "cell_type": "code",
      "metadata": {
        "id": "Xefnm4yL1oQm",
        "colab_type": "code",
        "colab": {}
      },
      "source": [
        "download = drive.CreateFile({'id': '1i6LrlBCOxZWBwQhPVLVwQqI0a6A6_IDF'})\n",
        "\n",
        "#連結drive,給他aoi.zip的共用連結id \n",
        "\n",
        "download.GetContentFile('aoi.zip') \n",
        "\n",
        "!unzip aoi.zip  #解壓縮\n",
        "!unzip train_images.zip\n",
        "!unzip test_images.zip\n",
        "\n",
        "#------google colab需要-------"
      ],
      "execution_count": 0,
      "outputs": []
    },
    {
      "cell_type": "code",
      "metadata": {
        "id": "2eCZfRXq2AHZ",
        "colab_type": "code",
        "outputId": "7e1135c0-df02-4995-cbe8-81aa61b20457",
        "colab": {
          "base_uri": "https://localhost:8080/",
          "height": 34
        }
      },
      "source": [
        "import keras\n",
        "from keras.models import Sequential\n",
        "from keras.layers import Dense, Dropout, Flatten\n",
        "from keras.layers import Conv2D, MaxPooling2D\n",
        "from keras.utils import to_categorical\n",
        "from keras.preprocessing import image\n",
        "import numpy as np\n",
        "import pandas as pd\n",
        "import matplotlib.pyplot as plt\n",
        "from sklearn.model_selection import train_test_split\n",
        "from keras.utils import to_categorical\n",
        "from tqdm import tqdm\n",
        "from keras.preprocessing.image import ImageDataGenerator\n",
        "from keras.optimizers import SGD"
      ],
      "execution_count": 4,
      "outputs": [
        {
          "output_type": "stream",
          "text": [
            "Using TensorFlow backend.\n"
          ],
          "name": "stderr"
        }
      ]
    },
    {
      "cell_type": "code",
      "metadata": {
        "id": "tKvLqZCo2JC4",
        "colab_type": "code",
        "outputId": "52a434a0-7b06-4e16-a5b5-c5c87a36e99b",
        "colab": {
          "base_uri": "https://localhost:8080/",
          "height": 87
        }
      },
      "source": [
        "\n",
        "train = pd.read_csv('train.csv')\n",
        "#AOI圖檔都為灰色\n",
        "\n",
        "#把圖片丟進去轉換\n",
        "\n",
        "train_image = []\n",
        "\n",
        "for i in tqdm(range(train.shape[0])):\n",
        "\n",
        "    img = image.load_img('train_images/'+train['ID'][i], target_size=(100,100,1), grayscale=True) #圖檔名\n",
        "\n",
        "    img = image.img_to_array(img)\n",
        "\n",
        "    img = img/255\n",
        "\n",
        "    train_image.append(img)\n",
        "\n",
        "X = np.array(train_image)"
      ],
      "execution_count": 11,
      "outputs": [
        {
          "output_type": "stream",
          "text": [
            "  0%|          | 0/2528 [00:00<?, ?it/s]/usr/local/lib/python3.6/dist-packages/keras_preprocessing/image/utils.py:104: UserWarning: grayscale is deprecated. Please use color_mode = \"grayscale\"\n",
            "  warnings.warn('grayscale is deprecated. Please use '\n",
            "100%|██████████| 2528/2528 [00:07<00:00, 320.42it/s]\n"
          ],
          "name": "stderr"
        }
      ]
    },
    {
      "cell_type": "code",
      "metadata": {
        "id": "ASYEhUxf2OIS",
        "colab_type": "code",
        "colab": {}
      },
      "source": [
        "y=train['Label'].values\n",
        "y = to_categorical(y) #one-hot 類別矩陣\n",
        "X_train, X_test, y_train, y_test = train_test_split(X, y, random_state=42, test_size=0.2)\n",
        "\n",
        "\n",
        "#圖片變形\n",
        "gen = ImageDataGenerator(featurewise_center=False,\n",
        "                         samplewise_center=False,\n",
        "                         rotation_range=8, \n",
        "                         width_shift_range=0.08, \n",
        "                         shear_range=0.3,\n",
        "                         height_shift_range=0.08, \n",
        "                         zoom_range=0.08,\n",
        "                         data_format=\"channels_last\")\n",
        "\n",
        "gen.fit(X_train)\n",
        "train_generator = gen.flow(X_train, y_train, batch_size=300)\n",
        "\n",
        "test_gen = ImageDataGenerator(data_format=\"channels_last\")\n",
        "test_gen.fit(X_test)\n",
        "test_generator = test_gen.flow(X_test, y_test, batch_size=300)"
      ],
      "execution_count": 0,
      "outputs": []
    },
    {
      "cell_type": "code",
      "metadata": {
        "id": "kTkpVjq9sTUn",
        "colab_type": "code",
        "outputId": "744f2ad8-156d-4160-9bca-37f760735543",
        "colab": {
          "base_uri": "https://localhost:8080/",
          "height": 3410
        }
      },
      "source": [
        "# 類似VGG的卷積神經網路下去修改\n",
        "model = Sequential()\n",
        "\n",
        "model.add(Conv2D(64, (3, 3), activation='relu', input_shape=(100, 100, 1)))\n",
        "model.add(Conv2D(64, (3, 3), activation='relu'))\n",
        "model.add(MaxPooling2D(pool_size=(2, 2)))\n",
        "model.add(Dropout(0.25))\n",
        "\n",
        "model.add(Conv2D(64, (3, 3), activation='relu'))\n",
        "model.add(Conv2D(64, (3, 3), activation='relu'))\n",
        "model.add(MaxPooling2D(pool_size=(2, 2)))\n",
        "model.add(Dropout(0.25))\n",
        "\n",
        "model.add(Conv2D(96, (3, 3), activation='relu'))\n",
        "model.add(Conv2D(96, (3, 3), activation='relu'))\n",
        "model.add(MaxPooling2D(pool_size=(2, 2)))\n",
        "model.add(Dropout(0.25))\n",
        "model.add(Flatten())\n",
        "model.add(Dense(256, activation='relu'))\n",
        "model.add(Dropout(0.5))\n",
        "model.add(Dense(6, activation='softmax'))\n",
        "\n",
        "sgd = SGD(lr=0.005, decay=1e-6, momentum=0.9, nesterov=True)\n",
        "model.compile(loss='categorical_crossentropy',optimizer='adam',metrics=['accuracy'])\n",
        "model.fit(X_train, y_train, epochs=100, batch_size=50,validation_data=(X_test, y_test))\n",
        "\n",
        "\n"
      ],
      "execution_count": 13,
      "outputs": [
        {
          "output_type": "stream",
          "text": [
            "Train on 2022 samples, validate on 506 samples\n",
            "Epoch 1/100\n",
            "2022/2022 [==============================] - 5s 3ms/step - loss: 1.7143 - acc: 0.2423 - val_loss: 1.6919 - val_acc: 0.2806\n",
            "Epoch 2/100\n",
            "2022/2022 [==============================] - 3s 1ms/step - loss: 1.6647 - acc: 0.2681 - val_loss: 1.6432 - val_acc: 0.2747\n",
            "Epoch 3/100\n",
            "2022/2022 [==============================] - 3s 1ms/step - loss: 1.6633 - acc: 0.2883 - val_loss: 1.6172 - val_acc: 0.2747\n",
            "Epoch 4/100\n",
            "2022/2022 [==============================] - 3s 1ms/step - loss: 1.6442 - acc: 0.3373 - val_loss: 1.6590 - val_acc: 0.2708\n",
            "Epoch 5/100\n",
            "2022/2022 [==============================] - 3s 1ms/step - loss: 1.6276 - acc: 0.3037 - val_loss: 1.6717 - val_acc: 0.2708\n",
            "Epoch 6/100\n",
            "2022/2022 [==============================] - 3s 1ms/step - loss: 1.6236 - acc: 0.3145 - val_loss: 1.7764 - val_acc: 0.2708\n",
            "Epoch 7/100\n",
            "2022/2022 [==============================] - 3s 1ms/step - loss: 1.5910 - acc: 0.3600 - val_loss: 1.2240 - val_acc: 0.5929\n",
            "Epoch 8/100\n",
            "2022/2022 [==============================] - 3s 1ms/step - loss: 1.4020 - acc: 0.4847 - val_loss: 1.2332 - val_acc: 0.5593\n",
            "Epoch 9/100\n",
            "2022/2022 [==============================] - 3s 1ms/step - loss: 1.0737 - acc: 0.5964 - val_loss: 1.0386 - val_acc: 0.6166\n",
            "Epoch 10/100\n",
            "2022/2022 [==============================] - 3s 1ms/step - loss: 1.0474 - acc: 0.6088 - val_loss: 0.9128 - val_acc: 0.6304\n",
            "Epoch 11/100\n",
            "2022/2022 [==============================] - 3s 1ms/step - loss: 1.0181 - acc: 0.6365 - val_loss: 0.8684 - val_acc: 0.6700\n",
            "Epoch 12/100\n",
            "2022/2022 [==============================] - 3s 1ms/step - loss: 0.8284 - acc: 0.6998 - val_loss: 0.6966 - val_acc: 0.7372\n",
            "Epoch 13/100\n",
            "2022/2022 [==============================] - 3s 1ms/step - loss: 0.6703 - acc: 0.7572 - val_loss: 0.5913 - val_acc: 0.7628\n",
            "Epoch 14/100\n",
            "2022/2022 [==============================] - 3s 1ms/step - loss: 0.5397 - acc: 0.8032 - val_loss: 0.5178 - val_acc: 0.8221\n",
            "Epoch 15/100\n",
            "2022/2022 [==============================] - 3s 1ms/step - loss: 0.4869 - acc: 0.8234 - val_loss: 0.4557 - val_acc: 0.8617\n",
            "Epoch 16/100\n",
            "2022/2022 [==============================] - 3s 1ms/step - loss: 0.4081 - acc: 0.8600 - val_loss: 0.4389 - val_acc: 0.8597\n",
            "Epoch 17/100\n",
            "2022/2022 [==============================] - 3s 1ms/step - loss: 0.3520 - acc: 0.8783 - val_loss: 0.3395 - val_acc: 0.8696\n",
            "Epoch 18/100\n",
            "2022/2022 [==============================] - 3s 1ms/step - loss: 0.3387 - acc: 0.8788 - val_loss: 0.2712 - val_acc: 0.9032\n",
            "Epoch 19/100\n",
            "2022/2022 [==============================] - 3s 1ms/step - loss: 0.2892 - acc: 0.8956 - val_loss: 0.4152 - val_acc: 0.8399\n",
            "Epoch 20/100\n",
            "2022/2022 [==============================] - 3s 1ms/step - loss: 0.3052 - acc: 0.8907 - val_loss: 0.3216 - val_acc: 0.8834\n",
            "Epoch 21/100\n",
            "2022/2022 [==============================] - 3s 1ms/step - loss: 0.2716 - acc: 0.9065 - val_loss: 0.3379 - val_acc: 0.8676\n",
            "Epoch 22/100\n",
            "2022/2022 [==============================] - 3s 1ms/step - loss: 0.2397 - acc: 0.9228 - val_loss: 0.2114 - val_acc: 0.9229\n",
            "Epoch 23/100\n",
            "2022/2022 [==============================] - 3s 1ms/step - loss: 0.2051 - acc: 0.9382 - val_loss: 0.2281 - val_acc: 0.9269\n",
            "Epoch 24/100\n",
            "2022/2022 [==============================] - 3s 1ms/step - loss: 0.1856 - acc: 0.9337 - val_loss: 0.2215 - val_acc: 0.9249\n",
            "Epoch 25/100\n",
            "2022/2022 [==============================] - 3s 1ms/step - loss: 0.1741 - acc: 0.9446 - val_loss: 0.3050 - val_acc: 0.8913\n",
            "Epoch 26/100\n",
            "2022/2022 [==============================] - 3s 1ms/step - loss: 0.1707 - acc: 0.9456 - val_loss: 0.1931 - val_acc: 0.9427\n",
            "Epoch 27/100\n",
            "2022/2022 [==============================] - 3s 1ms/step - loss: 0.1379 - acc: 0.9575 - val_loss: 0.2042 - val_acc: 0.9427\n",
            "Epoch 28/100\n",
            "2022/2022 [==============================] - 3s 1ms/step - loss: 0.1198 - acc: 0.9604 - val_loss: 0.1697 - val_acc: 0.9545\n",
            "Epoch 29/100\n",
            "2022/2022 [==============================] - 3s 1ms/step - loss: 0.1363 - acc: 0.9604 - val_loss: 0.1745 - val_acc: 0.9526\n",
            "Epoch 30/100\n",
            "2022/2022 [==============================] - 3s 1ms/step - loss: 0.1703 - acc: 0.9510 - val_loss: 0.1495 - val_acc: 0.9625\n",
            "Epoch 31/100\n",
            "2022/2022 [==============================] - 3s 1ms/step - loss: 0.1045 - acc: 0.9634 - val_loss: 0.1601 - val_acc: 0.9565\n",
            "Epoch 32/100\n",
            "2022/2022 [==============================] - 3s 1ms/step - loss: 0.0823 - acc: 0.9753 - val_loss: 0.1297 - val_acc: 0.9664\n",
            "Epoch 33/100\n",
            "2022/2022 [==============================] - 3s 1ms/step - loss: 0.0824 - acc: 0.9713 - val_loss: 0.2112 - val_acc: 0.9644\n",
            "Epoch 34/100\n",
            "2022/2022 [==============================] - 3s 1ms/step - loss: 0.1584 - acc: 0.9481 - val_loss: 0.2064 - val_acc: 0.9348\n",
            "Epoch 35/100\n",
            "2022/2022 [==============================] - 3s 1ms/step - loss: 0.1302 - acc: 0.9570 - val_loss: 0.1661 - val_acc: 0.9605\n",
            "Epoch 36/100\n",
            "2022/2022 [==============================] - 3s 1ms/step - loss: 0.1367 - acc: 0.9604 - val_loss: 0.1543 - val_acc: 0.9447\n",
            "Epoch 37/100\n",
            "2022/2022 [==============================] - 3s 1ms/step - loss: 0.0816 - acc: 0.9703 - val_loss: 0.1712 - val_acc: 0.9605\n",
            "Epoch 38/100\n",
            "2022/2022 [==============================] - 3s 1ms/step - loss: 0.0866 - acc: 0.9733 - val_loss: 0.1480 - val_acc: 0.9664\n",
            "Epoch 39/100\n",
            "2022/2022 [==============================] - 3s 1ms/step - loss: 0.0894 - acc: 0.9674 - val_loss: 0.1577 - val_acc: 0.9605\n",
            "Epoch 40/100\n",
            "2022/2022 [==============================] - 3s 1ms/step - loss: 0.0462 - acc: 0.9847 - val_loss: 0.1852 - val_acc: 0.9644\n",
            "Epoch 41/100\n",
            "2022/2022 [==============================] - 3s 1ms/step - loss: 0.0680 - acc: 0.9743 - val_loss: 0.2123 - val_acc: 0.9447\n",
            "Epoch 42/100\n",
            "2022/2022 [==============================] - 3s 1ms/step - loss: 0.0841 - acc: 0.9738 - val_loss: 0.1342 - val_acc: 0.9684\n",
            "Epoch 43/100\n",
            "2022/2022 [==============================] - 3s 1ms/step - loss: 0.1023 - acc: 0.9693 - val_loss: 0.1417 - val_acc: 0.9605\n",
            "Epoch 44/100\n",
            "2022/2022 [==============================] - 3s 1ms/step - loss: 0.0621 - acc: 0.9807 - val_loss: 0.1964 - val_acc: 0.9585\n",
            "Epoch 45/100\n",
            "2022/2022 [==============================] - 3s 1ms/step - loss: 0.0774 - acc: 0.9728 - val_loss: 0.2364 - val_acc: 0.9526\n",
            "Epoch 46/100\n",
            "2022/2022 [==============================] - 3s 1ms/step - loss: 0.0687 - acc: 0.9782 - val_loss: 0.1837 - val_acc: 0.9545\n",
            "Epoch 47/100\n",
            "2022/2022 [==============================] - 3s 1ms/step - loss: 0.0898 - acc: 0.9743 - val_loss: 0.2066 - val_acc: 0.9545\n",
            "Epoch 48/100\n",
            "2022/2022 [==============================] - 3s 1ms/step - loss: 0.0494 - acc: 0.9832 - val_loss: 0.1332 - val_acc: 0.9704\n",
            "Epoch 49/100\n",
            "2022/2022 [==============================] - 3s 1ms/step - loss: 0.0819 - acc: 0.9763 - val_loss: 0.1811 - val_acc: 0.9427\n",
            "Epoch 50/100\n",
            "2022/2022 [==============================] - 3s 1ms/step - loss: 0.0794 - acc: 0.9748 - val_loss: 0.1386 - val_acc: 0.9664\n",
            "Epoch 51/100\n",
            "2022/2022 [==============================] - 3s 1ms/step - loss: 0.0412 - acc: 0.9871 - val_loss: 0.1518 - val_acc: 0.9684\n",
            "Epoch 52/100\n",
            "2022/2022 [==============================] - 3s 1ms/step - loss: 0.0508 - acc: 0.9792 - val_loss: 0.1903 - val_acc: 0.9565\n",
            "Epoch 53/100\n",
            "2022/2022 [==============================] - 3s 1ms/step - loss: 0.0658 - acc: 0.9807 - val_loss: 0.1205 - val_acc: 0.9763\n",
            "Epoch 54/100\n",
            "2022/2022 [==============================] - 3s 1ms/step - loss: 0.0472 - acc: 0.9866 - val_loss: 0.1638 - val_acc: 0.9763\n",
            "Epoch 55/100\n",
            "2022/2022 [==============================] - 3s 1ms/step - loss: 0.0443 - acc: 0.9876 - val_loss: 0.1292 - val_acc: 0.9743\n",
            "Epoch 56/100\n",
            "2022/2022 [==============================] - 3s 1ms/step - loss: 0.0535 - acc: 0.9847 - val_loss: 0.1435 - val_acc: 0.9605\n",
            "Epoch 57/100\n",
            "2022/2022 [==============================] - 3s 1ms/step - loss: 0.0578 - acc: 0.9817 - val_loss: 0.1168 - val_acc: 0.9704\n",
            "Epoch 58/100\n",
            "2022/2022 [==============================] - 3s 1ms/step - loss: 0.0371 - acc: 0.9891 - val_loss: 0.1407 - val_acc: 0.9664\n",
            "Epoch 59/100\n",
            "2022/2022 [==============================] - 3s 1ms/step - loss: 0.0737 - acc: 0.9792 - val_loss: 0.1307 - val_acc: 0.9625\n",
            "Epoch 60/100\n",
            "2022/2022 [==============================] - 3s 1ms/step - loss: 0.0366 - acc: 0.9876 - val_loss: 0.1706 - val_acc: 0.9704\n",
            "Epoch 61/100\n",
            "2022/2022 [==============================] - 3s 1ms/step - loss: 0.0618 - acc: 0.9817 - val_loss: 0.2232 - val_acc: 0.9605\n",
            "Epoch 62/100\n",
            "2022/2022 [==============================] - 3s 1ms/step - loss: 0.0663 - acc: 0.9792 - val_loss: 0.1240 - val_acc: 0.9684\n",
            "Epoch 63/100\n",
            "2022/2022 [==============================] - 3s 1ms/step - loss: 0.0495 - acc: 0.9832 - val_loss: 0.1790 - val_acc: 0.9585\n",
            "Epoch 64/100\n",
            "2022/2022 [==============================] - 3s 1ms/step - loss: 0.0840 - acc: 0.9743 - val_loss: 0.1687 - val_acc: 0.9644\n",
            "Epoch 65/100\n",
            "2022/2022 [==============================] - 3s 1ms/step - loss: 0.0441 - acc: 0.9871 - val_loss: 0.1698 - val_acc: 0.9545\n",
            "Epoch 66/100\n",
            "2022/2022 [==============================] - 3s 1ms/step - loss: 0.0694 - acc: 0.9763 - val_loss: 0.2135 - val_acc: 0.9545\n",
            "Epoch 67/100\n",
            "2022/2022 [==============================] - 3s 1ms/step - loss: 0.0316 - acc: 0.9886 - val_loss: 0.1540 - val_acc: 0.9704\n",
            "Epoch 68/100\n",
            "2022/2022 [==============================] - 3s 1ms/step - loss: 0.0394 - acc: 0.9862 - val_loss: 0.1750 - val_acc: 0.9625\n",
            "Epoch 69/100\n",
            "2022/2022 [==============================] - 3s 1ms/step - loss: 0.0371 - acc: 0.9896 - val_loss: 0.1803 - val_acc: 0.9664\n",
            "Epoch 70/100\n",
            "2022/2022 [==============================] - 3s 1ms/step - loss: 0.0271 - acc: 0.9906 - val_loss: 0.1918 - val_acc: 0.9644\n",
            "Epoch 71/100\n",
            "2022/2022 [==============================] - 3s 1ms/step - loss: 0.0386 - acc: 0.9901 - val_loss: 0.1729 - val_acc: 0.9625\n",
            "Epoch 72/100\n",
            "2022/2022 [==============================] - 3s 1ms/step - loss: 0.0690 - acc: 0.9782 - val_loss: 0.3034 - val_acc: 0.9111\n",
            "Epoch 73/100\n",
            "2022/2022 [==============================] - 3s 1ms/step - loss: 0.0776 - acc: 0.9693 - val_loss: 0.1461 - val_acc: 0.9585\n",
            "Epoch 74/100\n",
            "2022/2022 [==============================] - 3s 1ms/step - loss: 0.0275 - acc: 0.9921 - val_loss: 0.1571 - val_acc: 0.9704\n",
            "Epoch 75/100\n",
            "2022/2022 [==============================] - 3s 1ms/step - loss: 0.0490 - acc: 0.9886 - val_loss: 0.1524 - val_acc: 0.9743\n",
            "Epoch 76/100\n",
            "2022/2022 [==============================] - 3s 1ms/step - loss: 0.0407 - acc: 0.9901 - val_loss: 0.1918 - val_acc: 0.9585\n",
            "Epoch 77/100\n",
            "2022/2022 [==============================] - 3s 1ms/step - loss: 0.0252 - acc: 0.9916 - val_loss: 0.1519 - val_acc: 0.9684\n",
            "Epoch 78/100\n",
            "2022/2022 [==============================] - 3s 1ms/step - loss: 0.0283 - acc: 0.9906 - val_loss: 0.1334 - val_acc: 0.9723\n",
            "Epoch 79/100\n",
            "2022/2022 [==============================] - 3s 1ms/step - loss: 0.0290 - acc: 0.9901 - val_loss: 0.1301 - val_acc: 0.9664\n",
            "Epoch 80/100\n",
            "2022/2022 [==============================] - 3s 1ms/step - loss: 0.0351 - acc: 0.9862 - val_loss: 0.1534 - val_acc: 0.9565\n",
            "Epoch 81/100\n",
            "2022/2022 [==============================] - 3s 1ms/step - loss: 0.0345 - acc: 0.9866 - val_loss: 0.1389 - val_acc: 0.9723\n",
            "Epoch 82/100\n",
            "2022/2022 [==============================] - 3s 1ms/step - loss: 0.0180 - acc: 0.9931 - val_loss: 0.1717 - val_acc: 0.9644\n",
            "Epoch 83/100\n",
            "2022/2022 [==============================] - 3s 1ms/step - loss: 0.0134 - acc: 0.9965 - val_loss: 0.1819 - val_acc: 0.9625\n",
            "Epoch 84/100\n",
            "2022/2022 [==============================] - 3s 1ms/step - loss: 0.0189 - acc: 0.9931 - val_loss: 0.1583 - val_acc: 0.9684\n",
            "Epoch 85/100\n",
            "2022/2022 [==============================] - 3s 1ms/step - loss: 0.0371 - acc: 0.9876 - val_loss: 0.1322 - val_acc: 0.9684\n",
            "Epoch 86/100\n",
            "2022/2022 [==============================] - 3s 1ms/step - loss: 0.0338 - acc: 0.9891 - val_loss: 0.1519 - val_acc: 0.9664\n",
            "Epoch 87/100\n",
            "2022/2022 [==============================] - 3s 1ms/step - loss: 0.0336 - acc: 0.9891 - val_loss: 0.3184 - val_acc: 0.9209\n",
            "Epoch 88/100\n",
            "2022/2022 [==============================] - 3s 1ms/step - loss: 0.0748 - acc: 0.9787 - val_loss: 0.1497 - val_acc: 0.9723\n",
            "Epoch 89/100\n",
            "2022/2022 [==============================] - 3s 1ms/step - loss: 0.0339 - acc: 0.9886 - val_loss: 0.1641 - val_acc: 0.9585\n",
            "Epoch 90/100\n",
            "2022/2022 [==============================] - 3s 1ms/step - loss: 0.0275 - acc: 0.9941 - val_loss: 0.1723 - val_acc: 0.9644\n",
            "Epoch 91/100\n",
            "2022/2022 [==============================] - 3s 1ms/step - loss: 0.0096 - acc: 0.9975 - val_loss: 0.2124 - val_acc: 0.9723\n",
            "Epoch 92/100\n",
            "2022/2022 [==============================] - 3s 1ms/step - loss: 0.0195 - acc: 0.9916 - val_loss: 0.1843 - val_acc: 0.9644\n",
            "Epoch 93/100\n",
            "2022/2022 [==============================] - 3s 1ms/step - loss: 0.0447 - acc: 0.9862 - val_loss: 0.1871 - val_acc: 0.9664\n",
            "Epoch 94/100\n",
            "2022/2022 [==============================] - 3s 1ms/step - loss: 0.0166 - acc: 0.9941 - val_loss: 0.1608 - val_acc: 0.9684\n",
            "Epoch 95/100\n",
            "2022/2022 [==============================] - 3s 1ms/step - loss: 0.0146 - acc: 0.9960 - val_loss: 0.1611 - val_acc: 0.9723\n",
            "Epoch 96/100\n",
            "2022/2022 [==============================] - 3s 1ms/step - loss: 0.0140 - acc: 0.9951 - val_loss: 0.1543 - val_acc: 0.9763\n",
            "Epoch 97/100\n",
            "2022/2022 [==============================] - 3s 1ms/step - loss: 0.0126 - acc: 0.9955 - val_loss: 0.2410 - val_acc: 0.9684\n",
            "Epoch 98/100\n",
            "2022/2022 [==============================] - 3s 1ms/step - loss: 0.0470 - acc: 0.9876 - val_loss: 0.1995 - val_acc: 0.9723\n",
            "Epoch 99/100\n",
            "2022/2022 [==============================] - 3s 1ms/step - loss: 0.1174 - acc: 0.9708 - val_loss: 0.1484 - val_acc: 0.9644\n",
            "Epoch 100/100\n",
            "2022/2022 [==============================] - 3s 1ms/step - loss: 0.0538 - acc: 0.9837 - val_loss: 0.1570 - val_acc: 0.9704\n"
          ],
          "name": "stdout"
        },
        {
          "output_type": "execute_result",
          "data": {
            "text/plain": [
              "<keras.callbacks.History at 0x7f9e92b8e160>"
            ]
          },
          "metadata": {
            "tags": []
          },
          "execution_count": 13
        }
      ]
    },
    {
      "cell_type": "code",
      "metadata": {
        "id": "6ieFBAxOwzVy",
        "colab_type": "code",
        "outputId": "61de6df6-9adb-46ad-ceda-a4896a446315",
        "colab": {
          "base_uri": "https://localhost:8080/",
          "height": 672
        }
      },
      "source": [
        "model.summary()"
      ],
      "execution_count": 14,
      "outputs": [
        {
          "output_type": "stream",
          "text": [
            "_________________________________________________________________\n",
            "Layer (type)                 Output Shape              Param #   \n",
            "=================================================================\n",
            "conv2d_13 (Conv2D)           (None, 98, 98, 64)        640       \n",
            "_________________________________________________________________\n",
            "conv2d_14 (Conv2D)           (None, 96, 96, 64)        36928     \n",
            "_________________________________________________________________\n",
            "max_pooling2d_7 (MaxPooling2 (None, 48, 48, 64)        0         \n",
            "_________________________________________________________________\n",
            "dropout_9 (Dropout)          (None, 48, 48, 64)        0         \n",
            "_________________________________________________________________\n",
            "conv2d_15 (Conv2D)           (None, 46, 46, 64)        36928     \n",
            "_________________________________________________________________\n",
            "conv2d_16 (Conv2D)           (None, 44, 44, 64)        36928     \n",
            "_________________________________________________________________\n",
            "max_pooling2d_8 (MaxPooling2 (None, 22, 22, 64)        0         \n",
            "_________________________________________________________________\n",
            "dropout_10 (Dropout)         (None, 22, 22, 64)        0         \n",
            "_________________________________________________________________\n",
            "conv2d_17 (Conv2D)           (None, 20, 20, 96)        55392     \n",
            "_________________________________________________________________\n",
            "conv2d_18 (Conv2D)           (None, 18, 18, 96)        83040     \n",
            "_________________________________________________________________\n",
            "max_pooling2d_9 (MaxPooling2 (None, 9, 9, 96)          0         \n",
            "_________________________________________________________________\n",
            "dropout_11 (Dropout)         (None, 9, 9, 96)          0         \n",
            "_________________________________________________________________\n",
            "flatten_3 (Flatten)          (None, 7776)              0         \n",
            "_________________________________________________________________\n",
            "dense_5 (Dense)              (None, 256)               1990912   \n",
            "_________________________________________________________________\n",
            "dropout_12 (Dropout)         (None, 256)               0         \n",
            "_________________________________________________________________\n",
            "dense_6 (Dense)              (None, 6)                 1542      \n",
            "=================================================================\n",
            "Total params: 2,242,310\n",
            "Trainable params: 2,242,310\n",
            "Non-trainable params: 0\n",
            "_________________________________________________________________\n"
          ],
          "name": "stdout"
        }
      ]
    },
    {
      "cell_type": "code",
      "metadata": {
        "id": "Vmx_v9KH2bzH",
        "colab_type": "code",
        "outputId": "852c18cd-4981-48a8-8f50-43f10cade5df",
        "colab": {
          "base_uri": "https://localhost:8080/",
          "height": 87
        }
      },
      "source": [
        "test = pd.read_csv('test.csv')\n",
        "\n",
        "test_image = []\n",
        "\n",
        "for i in tqdm(range(test.shape[0])):\n",
        "\n",
        "    img = image.load_img('test_images/'+test['ID'][i], target_size=(100,100,1), grayscale=True)\n",
        "\n",
        "    img = image.img_to_array(img)\n",
        "\n",
        "    img = img/255\n",
        "\n",
        "    test_image.append(img)\n",
        "\n",
        "test = np.array(test_image)\n",
        "\n",
        "prediction = model.predict_classes(test)\n",
        "\n"
      ],
      "execution_count": 15,
      "outputs": [
        {
          "output_type": "stream",
          "text": [
            "  0%|          | 0/10142 [00:00<?, ?it/s]/usr/local/lib/python3.6/dist-packages/keras_preprocessing/image/utils.py:104: UserWarning: grayscale is deprecated. Please use color_mode = \"grayscale\"\n",
            "  warnings.warn('grayscale is deprecated. Please use '\n",
            "100%|██████████| 10142/10142 [00:31<00:00, 319.25it/s]\n"
          ],
          "name": "stderr"
        }
      ]
    },
    {
      "cell_type": "code",
      "metadata": {
        "id": "_nIO8TFE2iLU",
        "colab_type": "code",
        "colab": {}
      },
      "source": [
        "download = drive.CreateFile({'id': '1xZTC94m2h-1a1TQAAw1yfwSSh3LWCPgR'})\n",
        "\n",
        "download.GetContentFile('sample.csv')\n",
        "\n",
        "# creating submission file\n",
        "\n",
        "sample = pd.read_csv('sample.csv') #已經有ID的csv檔\n",
        "\n",
        "sample['label'] = prediction\n",
        "\n",
        "sample.to_csv('predlabel.csv', header=True, index=False) #加入預測的類別後輸出添加Label的.csv檔\n",
        "\n"
      ],
      "execution_count": 0,
      "outputs": []
    }
  ]
}
